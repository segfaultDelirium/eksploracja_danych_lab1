{
 "cells": [
  {
   "cell_type": "code",
   "execution_count": 51,
   "id": "5ca44d87-1f7d-44a2-96e5-f9d2adb4eebc",
   "metadata": {
    "tags": []
   },
   "outputs": [],
   "source": [
    "import numpy as np\n",
    "import math\n",
    "import matplotlib.pyplot as plt\n"
   ]
  },
  {
   "cell_type": "code",
   "execution_count": null,
   "id": "b2cb5655-ee05-4799-8e62-334c51239585",
   "metadata": {
    "tags": []
   },
   "outputs": [],
   "source": []
  },
  {
   "cell_type": "code",
   "execution_count": 78,
   "id": "ed3e193c-e9f5-412a-a7f6-fac61f2a36ce",
   "metadata": {
    "tags": []
   },
   "outputs": [
    {
     "data": {
      "text/plain": [
       "<matplotlib.legend.Legend at 0x7efdc5562d10>"
      ]
     },
     "execution_count": 78,
     "metadata": {},
     "output_type": "execute_result"
    },
    {
     "data": {
      "image/png": "[encoded data removed]",
      "text/plain": [
       "<Figure size 500x270 with 1 Axes>"
      ]
     },
     "metadata": {},
     "output_type": "display_data"
    }
   ],
   "source": [
    "\n",
    "x = np.linspace(-10, 10, 100)  # Sample data.\n",
    "# m = 2\n",
    "x0 = 0\n",
    "h = 1\n",
    "# 1/(h * math.sqrt(2 * m)) *\n",
    "y =  math.e ** (- ((x - x0)/h)** 2)\n",
    "# Note that even in the OO-style, we use `.pyplot.figure` to create the Figure.\n",
    "fig, ax = plt.subplots(figsize=(5, 2.7), layout='constrained')\n",
    "ax.plot(x, y, label='linear', color='red')  # Plot some data on the axes.\n",
    "# ax.plot(x, y, label='linear', color='red')  # Plot some data on the axes.\n",
    "ax.set_xlabel('x label')  # Add an x-label to the axes.\n",
    "ax.set_ylabel('y label')  # Add a y-label to the axes.\n",
    "ax.set_title(\"Simple Plot\")  # Add a title to the axes.\n",
    "plt.xlim(-10, 10)\n",
    "plt.ylim(0, 0.5)\n",
    "\n",
    "# wygenerowac z rozkladu normalnego rozklad h = 1, x0 = 0, m = 10\n",
    "x0 = 0\n",
    "h = 1\n",
    "m = 20\n",
    "x = np.random.normal(x0, h, m)\n",
    "y = np.zeros(m)\n",
    "ax.scatter(x, y, color='blue', marker='|') \n",
    "\n",
    "# # wylosujmy m1 punktow z rozkladu x0=0, h=1\n",
    "\n",
    "# x = np.random.normal(x0, h, 10)\n",
    "# y = np.zeros(10)\n",
    "# ax.scatter(x, y, color='green', marker='|') \n",
    "# wylosujemy m2 punktow z rozkladu x0=5, h=1\n",
    "x0 = 5\n",
    "h = 1\n",
    "m = 80\n",
    "x = np.random.normal(x0, h, m)\n",
    "y = np.zeros(m)\n",
    "ax.scatter(x, y, color='green', marker='|') \n",
    "\n",
    "x = np.linspace(-10, 10, 100) \n",
    "h = 1\n",
    "y = 0.8 /(math.sqrt(2 * math.pi) * h) * math.e ** (-0.5 * ((x - 5)/h)** 2) + 0.2 /(math.sqrt(2 * math.pi) * h) * math.e ** (-0.5 * ((x - 0)/h)** 2) \n",
    "ax.plot(x, y, label='linear', color='pink')  # Plot some data on the axes.\n",
    "\n",
    "ax.legend()  # Add a legend."
   ]
  },
  {
   "cell_type": "code",
   "execution_count": 74,
   "id": "656c5126-5903-4ee4-bf69-293ffeeba1fe",
   "metadata": {
    "tags": []
   },
   "outputs": [
    {
     "data": {
      "text/plain": [
       "array([ 0.99760148, -1.03804888, -0.5480692 , -0.85931827,  0.3474781 ,\n",
       "       -1.11915634,  0.78800061, -2.64043305, -0.39027043,  2.07093741,\n",
       "       -0.01885547,  1.09113622,  0.34521188,  1.46652543,  0.13963277,\n",
       "       -0.85874919, -1.11767044,  0.89460887,  0.63200342, -1.21027367,\n",
       "        4.14759402,  6.87503638,  5.42004165,  5.05826403,  4.05480018,\n",
       "        5.9412723 ,  4.44662017,  5.58860762,  6.322475  ,  4.47282336,\n",
       "        5.31786542,  5.14578071,  3.85956423,  6.50107321,  5.58930465,\n",
       "        8.20103015,  5.02478008,  5.58819533,  6.15487388,  4.22643544,\n",
       "        4.09646617,  4.06979663,  4.63515097,  4.5345132 ,  5.71230427,\n",
       "        6.71175266,  2.98405017,  5.02654023,  3.9290694 ,  5.65246564,\n",
       "        5.43633236,  4.13262596,  5.12970507,  3.23424965,  4.28547839,\n",
       "        5.72281061,  3.48264151,  5.43153661,  4.74613923,  3.8764936 ,\n",
       "        4.79106292,  4.88343129,  5.31358074,  4.8895944 ,  4.30399043,\n",
       "        5.11576709,  5.1067787 ,  5.10571553,  4.33311848,  4.65313351,\n",
       "        3.01865348,  4.75870994,  2.42280873,  4.15753491,  3.73377879,\n",
       "        4.76665943,  5.29464154,  4.87802535,  5.56075056,  5.43232383,\n",
       "        4.31385784,  4.07724857,  4.50188734,  3.22912532,  7.31722213,\n",
       "        5.16117424,  5.29812108,  4.58046844,  5.77112036,  4.75120871,\n",
       "        6.26051829,  5.80433369,  4.20803634,  6.12350992,  5.49326729,\n",
       "        3.98554619,  3.96824751,  5.1424663 ,  5.78361396,  6.94523609])"
      ]
     },
     "execution_count": 74,
     "metadata": {},
     "output_type": "execute_result"
    }
   ],
   "source": []
  },
  {
   "cell_type": "code",
   "execution_count": null,
   "id": "a8f8af58-3304-46b2-87a6-355af5d49648",
   "metadata": {
    "tags": []
   },
   "outputs": [],
   "source": []
  },
  {
   "cell_type": "code",
   "execution_count": null,
   "id": "c368c26b-d9f6-4f1d-878a-59b74ecde830",
   "metadata": {},
   "outputs": [],
   "source": []
  }
 ],
 "metadata": {
  "kernelspec": {
   "display_name": "Python 3 (ipykernel)",
   "language": "python",
   "name": "python3"
  },
  "language_info": {
   "codemirror_mode": {
    "name": "ipython",
    "version": 3
   },
   "file_extension": ".py",
   "mimetype": "text/x-python",
   "name": "python",
   "nbconvert_exporter": "python",
   "pygments_lexer": "ipython3",
   "version": "3.11.5"
  }
 },
 "nbformat": 4,
 "nbformat_minor": 5
}
