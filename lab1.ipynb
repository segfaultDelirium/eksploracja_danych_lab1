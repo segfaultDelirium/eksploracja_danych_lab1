{
 "cells": [
  {
   "cell_type": "code",
   "execution_count": 1,
   "id": "5ca44d87-1f7d-44a2-96e5-f9d2adb4eebc",
   "metadata": {
    "tags": []
   },
   "outputs": [],
   "source": [
    "import numpy as np\n",
    "import math\n",
    "import matplotlib.pyplot as plt\n"
   ]
  },
  {
   "cell_type": "code",
   "execution_count": null,
   "id": "b2cb5655-ee05-4799-8e62-334c51239585",
   "metadata": {
    "tags": []
   },
   "outputs": [],
   "source": []
  },
  {
   "cell_type": "code",
   "execution_count": 6,
   "id": "ed3e193c-e9f5-412a-a7f6-fac61f2a36ce",
   "metadata": {
    "tags": []
   },
   "outputs": [
    {
     "data": {
      "text/plain": [
       "<matplotlib.legend.Legend at 0x7f8058c8a810>"
      ]
     },
     "execution_count": 6,
     "metadata": {},
     "output_type": "execute_result"
    },
    {
     "data": {
      "image/png": "[encoded data removed]",
      "text/plain": [
       "<Figure size 500x270 with 1 Axes>"
      ]
     },
     "metadata": {},
     "output_type": "display_data"
    }
   ],
   "source": [
    "\n",
    "x = np.linspace(-10, 10, 100)  # Sample data.\n",
    "# m = 2\n",
    "x0 = 0\n",
    "h = 1\n",
    "# 1/(h * math.sqrt(2 * m)) *\n",
    "y =  math.e ** (- ((x - x0)/h)** 2)\n",
    "# print(y)\n",
    "# Note that even in the OO-style, we use `.pyplot.figure` to create the Figure.\n",
    "fig, ax = plt.subplots(figsize=(5, 2.7), layout='constrained')\n",
    "ax.plot(x, y, label='linear', color='red')  # Plot some data on the axes.\n",
    "# ax.plot(x, y, label='linear', color='red')  # Plot some data on the axes.\n",
    "ax.set_xlabel('x label')  # Add an x-label to the axes.\n",
    "ax.set_ylabel('y label')  # Add a y-label to the axes.\n",
    "ax.set_title(\"Simple Plot\")  # Add a title to the axes.\n",
    "x_domain = (-10, 10)\n",
    "y_domain =  (0, 0.5)\n",
    "plt.xlim(x_domain[0], x_domain[1])\n",
    "plt.ylim(y_domain[0], y_domain[1])\n",
    "\n",
    "# wygenerowac z rozkladu normalnego rozklad h = 1, x0 = 0, m = 10\n",
    "x0 = 0\n",
    "h = 1\n",
    "m = 20\n",
    "x = np.random.normal(x0, h, m)\n",
    "y = np.zeros(m)\n",
    "ax.scatter(x, y, color='blue', marker='|') \n",
    "oldx = x\n",
    "# # wylosujmy m1 punktow z rozkladu x0=0, h=1\n",
    "\n",
    "# x = np.random.normal(x0, h, 10)\n",
    "# y = np.zeros(10)\n",
    "# ax.scatter(x, y, color='green', marker='|') \n",
    "# wylosujemy m2 punktow z rozkladu x0=5, h=1\n",
    "x0 = 5\n",
    "h = 1\n",
    "m = 80\n",
    "x = np.random.normal(x0, h, m)\n",
    "y = np.zeros(m)\n",
    "ax.scatter(x, y, color='green', marker='|') \n",
    "\n",
    "n_bins = 20\n",
    "hist, bins_ = np.histogram(np.concatenate((x,oldx)), bins=n_bins, range=[-10, 10])\n",
    "\n",
    "max_hist_value = np.max(hist)\n",
    "freq = np.interp(hist, (0, np.max(hist)), (y_domain[0], y_domain[1]))\n",
    "plt.bar(bins_[:-1], freq, align=\"edge\", width=np.diff(bins_))\n",
    "plt.locator_params(nbins=20, axis='x')\n",
    "\n",
    "def plot_camel():    \n",
    "    x = np.linspace(-10, 10, 100) \n",
    "    h = 1\n",
    "    y = 0.8 /(math.sqrt(2 * math.pi) * h) * math.e ** (-0.5 * ((x - 5)/h)** 2) + 0.2 /(math.sqrt(2 * math.pi) * h) * math.e ** (-0.5 * ((x - 0)/h)** 2) \n",
    "    ax.plot(x, y, label='linear', color='pink')  # Plot some data on the axes.\n",
    "plot_camel()\n",
    "\n",
    "\n",
    "\n",
    "ax.legend()  # Add a legend."
   ]
  },
  {
   "cell_type": "code",
   "execution_count": 3,
   "id": "c3841704-ac99-4f5c-be55-43708522d8fc",
   "metadata": {
    "tags": []
   },
   "outputs": [
    {
     "data": {
      "text/plain": [
       "array([ 0,  0,  0,  0,  0,  0,  0,  0,  1,  7, 11,  1,  2,  5, 32, 31, 10,\n",
       "        0,  0,  0])"
      ]
     },
     "execution_count": 3,
     "metadata": {},
     "output_type": "execute_result"
    }
   ],
   "source": [
    "hist"
   ]
  },
  {
   "cell_type": "code",
   "execution_count": null,
   "id": "7b740835-105b-407e-8864-b12ca8c6d96b",
   "metadata": {
    "tags": []
   },
   "outputs": [],
   "source": []
  },
  {
   "cell_type": "code",
   "execution_count": null,
   "id": "656c5126-5903-4ee4-bf69-293ffeeba1fe",
   "metadata": {
    "tags": []
   },
   "outputs": [],
   "source": []
  },
  {
   "cell_type": "code",
   "execution_count": null,
   "id": "10bec82c-9d55-4fd7-8c88-d5f310dcd4be",
   "metadata": {
    "tags": []
   },
   "outputs": [],
   "source": []
  },
  {
   "cell_type": "code",
   "execution_count": null,
   "id": "e3429ebf-5f44-4149-9af6-ac959abff352",
   "metadata": {
    "tags": []
   },
   "outputs": [],
   "source": []
  },
  {
   "cell_type": "code",
   "execution_count": null,
   "id": "a8f8af58-3304-46b2-87a6-355af5d49648",
   "metadata": {
    "tags": []
   },
   "outputs": [],
   "source": []
  },
  {
   "cell_type": "code",
   "execution_count": null,
   "id": "c368c26b-d9f6-4f1d-878a-59b74ecde830",
   "metadata": {},
   "outputs": [],
   "source": []
  }
 ],
 "metadata": {
  "kernelspec": {
   "display_name": "Python 3 (ipykernel)",
   "language": "python",
   "name": "python3"
  },
  "language_info": {
   "codemirror_mode": {
    "name": "ipython",
    "version": 3
   },
   "file_extension": ".py",
   "mimetype": "text/x-python",
   "name": "python",
   "nbconvert_exporter": "python",
   "pygments_lexer": "ipython3",
   "version": "3.11.5"
  }
 },
 "nbformat": 4,
 "nbformat_minor": 5
}
